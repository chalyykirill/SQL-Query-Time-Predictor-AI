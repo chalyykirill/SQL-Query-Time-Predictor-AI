{
 "cells": [
  {
   "cell_type": "markdown",
   "id": "b2f8d632-9bcd-4313-8145-709c52985747",
   "metadata": {},
   "source": [
    "# Predicting execution time of SQL queries in a database using AI"
   ]
  },
  {
   "cell_type": "code",
   "execution_count": null,
   "id": "023e5fe8-6f77-45ec-8c61-08520611e7da",
   "metadata": {},
   "outputs": [],
   "source": [
    "# The project will appear here soon ..."
   ]
  }
 ],
 "metadata": {
  "kernelspec": {
   "display_name": "Python 3 (ipykernel)",
   "language": "python",
   "name": "python3"
  },
  "language_info": {
   "codemirror_mode": {
    "name": "ipython",
    "version": 3
   },
   "file_extension": ".py",
   "mimetype": "text/x-python",
   "name": "python",
   "nbconvert_exporter": "python",
   "pygments_lexer": "ipython3",
   "version": "3.11.5"
  }
 },
 "nbformat": 4,
 "nbformat_minor": 5
}
